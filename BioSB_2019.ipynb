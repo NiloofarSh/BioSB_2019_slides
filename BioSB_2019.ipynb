{
 "cells": [
  {
   "cell_type": "markdown",
   "metadata": {
    "scrolled": true,
    "slideshow": {
     "slide_type": "slide"
    }
   },
   "source": [
    "<img src=\"img/s1.png\">"
   ]
  },
  {
   "cell_type": "markdown",
   "metadata": {
    "slideshow": {
     "slide_type": "slide"
    }
   },
   "source": [
    "<img src=\"img/s2.png\">"
   ]
  },
  {
   "cell_type": "markdown",
   "metadata": {
    "slideshow": {
     "slide_type": "slide"
    }
   },
   "source": [
    "<img src=\"img/s3.png\">"
   ]
  },
  {
   "cell_type": "markdown",
   "metadata": {
    "slideshow": {
     "slide_type": "slide"
    }
   },
   "source": [
    "<img src=\"img/s4.png\">"
   ]
  },
  {
   "cell_type": "markdown",
   "metadata": {
    "slideshow": {
     "slide_type": "slide"
    }
   },
   "source": [
    "<img src=\"img/s5.png\">"
   ]
  },
  {
   "cell_type": "markdown",
   "metadata": {
    "slideshow": {
     "slide_type": "slide"
    }
   },
   "source": [
    "<img src=\"img/s6.png\">"
   ]
  },
  {
   "cell_type": "markdown",
   "metadata": {
    "slideshow": {
     "slide_type": "slide"
    }
   },
   "source": [
    "<img src=\"img/s7.png\">"
   ]
  },
  {
   "cell_type": "markdown",
   "metadata": {
    "slideshow": {
     "slide_type": "slide"
    }
   },
   "source": [
    "<img src=\"img/s8.png\">"
   ]
  },
  {
   "cell_type": "markdown",
   "metadata": {
    "slideshow": {
     "slide_type": "slide"
    }
   },
   "source": [
    "<img src=\"img/s9.png\">"
   ]
  },
  {
   "cell_type": "markdown",
   "metadata": {
    "slideshow": {
     "slide_type": "slide"
    }
   },
   "source": [
    "<img src=\"img/s10.png\">"
   ]
  },
  {
   "cell_type": "markdown",
   "metadata": {
    "slideshow": {
     "slide_type": "slide"
    }
   },
   "source": [
    "<img src=\"img/s_API.png\">"
   ]
  },
  {
   "cell_type": "markdown",
   "metadata": {
    "slideshow": {
     "slide_type": "slide"
    }
   },
   "source": [
    "## <font color='2471A3' size=5 >Python Scripts:</font>\n",
    "\n",
    "#### <font color='2471A3' size = 4.5>I. </font>Converting FASTA  to an appropriate format (Preparing the input)\n",
    "#### <font color='2471A3' size = 4.5>II. </font>Getting data from the web server\n",
    "#### <font color='2471A3' size = 4.5>III. </font>Plotting the results\n"
   ]
  },
  {
   "cell_type": "markdown",
   "metadata": {
    "slideshow": {
     "slide_type": "slide"
    }
   },
   "source": [
    "#### <font color='#B9770E' size = 6><b> I. Converting FASTA to Json formatted file:  </b></font> \n",
    "##### The web APIs support only JSON format but FASTA is the most common format in bioinformatics databases \n"
   ]
  },
  {
   "cell_type": "markdown",
   "metadata": {
    "slideshow": {
     "slide_type": "slide"
    }
   },
   "source": [
    "### <center><font color='2471A3' size = 6><b> The fasta2json Function</b></font></center>\n",
    "#### <font color='2471A3' size = 5>The Steps:</font>\n",
    "#### The function accepts a FASTA file as input and return a JSON file as output.\n",
    "###### <font color='2471A3' size = 4.5>1. </font> The  Bio module is imported \n",
    "###### <font color='2471A3' size = 4.5>1. </font> A FASTA file can be accepted as the input\n",
    "###### <font color='2471A3' size = 4.5>2. </font> The output file is created (json format)\n",
    "###### <font color='2471A3' size = 4.5>3. </font>The file will be parsed by Bio module and the information of sequences will be save as fasta elements  ( id and seq, etc.)\n",
    "###### <font color='2471A3' size = 4.5>4. </font>Finally, the fasta elements are written in the output file with our desired format. \n"
   ]
  },
  {
   "cell_type": "code",
   "execution_count": 5,
   "metadata": {
    "slideshow": {
     "slide_type": "slide"
    }
   },
   "outputs": [
    {
     "ename": "ModuleNotFoundError",
     "evalue": "No module named 'Bio'",
     "output_type": "error",
     "traceback": [
      "\u001b[0;31m---------------------------------------------------------------------------\u001b[0m",
      "\u001b[0;31mModuleNotFoundError\u001b[0m                       Traceback (most recent call last)",
      "\u001b[0;32m<ipython-input-5-22d4508bdf75>\u001b[0m in \u001b[0;36m<module>\u001b[0;34m\u001b[0m\n\u001b[0;32m----> 1\u001b[0;31m \u001b[0;32mfrom\u001b[0m \u001b[0mBio\u001b[0m \u001b[0;32mimport\u001b[0m \u001b[0mSeqIO\u001b[0m\u001b[0;34m\u001b[0m\u001b[0;34m\u001b[0m\u001b[0m\n\u001b[0m\u001b[1;32m      2\u001b[0m \u001b[0;32mdef\u001b[0m \u001b[0mfasta2json\u001b[0m\u001b[0;34m(\u001b[0m\u001b[0mfastafile\u001b[0m\u001b[0;34m)\u001b[0m\u001b[0;34m:\u001b[0m\u001b[0;34m\u001b[0m\u001b[0;34m\u001b[0m\u001b[0m\n\u001b[1;32m      3\u001b[0m     \u001b[0mf\u001b[0m \u001b[0;34m=\u001b[0m \u001b[0mopen\u001b[0m\u001b[0;34m(\u001b[0m\u001b[0;34m'P53.json'\u001b[0m\u001b[0;34m,\u001b[0m\u001b[0;34m'w+'\u001b[0m\u001b[0;34m)\u001b[0m\u001b[0;34m\u001b[0m\u001b[0;34m\u001b[0m\u001b[0m\n\u001b[1;32m      4\u001b[0m     \u001b[0mf\u001b[0m\u001b[0;34m.\u001b[0m\u001b[0mwrite\u001b[0m\u001b[0;34m(\u001b[0m\u001b[0;34m'{'\u001b[0m\u001b[0;34m)\u001b[0m\u001b[0;34m\u001b[0m\u001b[0;34m\u001b[0m\u001b[0m\n\u001b[1;32m      5\u001b[0m     \u001b[0;32mfor\u001b[0m \u001b[0mseq_record\u001b[0m \u001b[0;32min\u001b[0m \u001b[0mSeqIO\u001b[0m\u001b[0;34m.\u001b[0m\u001b[0mparse\u001b[0m\u001b[0;34m(\u001b[0m\u001b[0mfastafile\u001b[0m\u001b[0;34m,\u001b[0m\u001b[0;34m'fasta'\u001b[0m\u001b[0;34m)\u001b[0m\u001b[0;34m:\u001b[0m\u001b[0;34m\u001b[0m\u001b[0;34m\u001b[0m\u001b[0m\n",
      "\u001b[0;31mModuleNotFoundError\u001b[0m: No module named 'Bio'"
     ]
    }
   ],
   "source": [
    "from Bio import SeqIO\n",
    "def fasta2json(fastafile):\n",
    "    f = open('P53.json','w+')\n",
    "    f.write('{')\n",
    "    for seq_record in SeqIO.parse(fastafile,'fasta'):\n",
    "        f.write('\"%s\": \"%s\",' % (seq_record.id, seq_record.seq ))\n",
    "    f.write('}')\n",
    "if __name__ == '__main__':\n",
    " results = fasta2json('P53.fasta')\n"
   ]
  },
  {
   "cell_type": "markdown",
   "metadata": {
    "slideshow": {
     "slide_type": "slide"
    }
   },
   "source": [
    "## <font color='#B9770E' size = 6><b>II. Getting data from DisoMine</b></font>\n",
    "\n"
   ]
  },
  {
   "cell_type": "markdown",
   "metadata": {
    "slideshow": {
     "slide_type": "slide"
    }
   },
   "source": [
    "### <center><font color='2471A3' size = 6><b>The getDataFrom DisoMine Function</b></font>\n",
    "#### This function accepts a JSON file as input and returns the DisoMine results as output.\n",
    "#### Here two modules are used (\"requests\" and \"json\")\n"
   ]
  },
  {
   "cell_type": "markdown",
   "metadata": {
    "slideshow": {
     "slide_type": "slide"
    }
   },
   "source": [
    "#### <font color='2471A3' size = 5>The Steps:</font>\n"
   ]
  },
  {
   "cell_type": "markdown",
   "metadata": {
    "slideshow": {
     "slide_type": "slide"
    }
   },
   "source": [
    "###### <font color='2471A3' size = 4.5>1. </font> Accepts a JSON file as an input "
   ]
  },
  {
   "cell_type": "code",
   "execution_count": null,
   "metadata": {
    "slideshow": {
     "slide_type": "slide"
    }
   },
   "outputs": [],
   "source": [
    "# Read input Json file\n",
    "    file = open('P53_5O1A.json', 'r')\n",
    "    inputFile = file.read()"
   ]
  },
  {
   "cell_type": "markdown",
   "metadata": {
    "slideshow": {
     "slide_type": "slide"
    }
   },
   "source": [
    "###### <font color='2471A3' size = 4.5>2. </font> Reads the file using the \"JSON\" module.\n"
   ]
  },
  {
   "cell_type": "code",
   "execution_count": null,
   "metadata": {
    "slideshow": {
     "slide_type": "slide"
    }
   },
   "outputs": [],
   "source": [
    "request_json = json.loads(inputFile)"
   ]
  },
  {
   "cell_type": "markdown",
   "metadata": {
    "slideshow": {
     "slide_type": "slide"
    }
   },
   "source": [
    "###### <font color='2471A3' size = 4.5>3. </font>Defines a variable for our API URL.\n"
   ]
  },
  {
   "cell_type": "code",
   "execution_count": null,
   "metadata": {
    "slideshow": {
     "slide_type": "slide"
    }
   },
   "outputs": [],
   "source": [
    "# API Post URL\n",
    "    post_url = \"http://bio2byte.be/disomine/api/\""
   ]
  },
  {
   "cell_type": "markdown",
   "metadata": {
    "slideshow": {
     "slide_type": "slide"
    }
   },
   "source": [
    "###### <font color='2471A3' size = 4.5>4. </font> Makes POST request with JSON input body using \"post\" (It accepts two urguments: I. API URL, and II. JSON file )\n"
   ]
  },
  {
   "cell_type": "code",
   "execution_count": 20,
   "metadata": {
    "slideshow": {
     "slide_type": "slide"
    }
   },
   "outputs": [
    {
     "ename": "IndentationError",
     "evalue": "unexpected indent (<ipython-input-20-ff7529e2457a>, line 4)",
     "output_type": "error",
     "traceback": [
      "\u001b[0;36m  File \u001b[0;32m\"<ipython-input-20-ff7529e2457a>\"\u001b[0;36m, line \u001b[0;32m4\u001b[0m\n\u001b[0;31m    response = requests.post(post_url, json = request_json)\u001b[0m\n\u001b[0m    ^\u001b[0m\n\u001b[0;31mIndentationError\u001b[0m\u001b[0;31m:\u001b[0m unexpected indent\n"
     ]
    }
   ],
   "source": [
    "# Make POST request with Json Input body\n",
    "    # WV 190206 - ADDED the 'data =' in below for it to work on Python dictionary\n",
    "    \n",
    "    response = requests.post(post_url, json = request_json)\n",
    "    queue_id = str(response.json()['queue_id'])\n",
    "    "
   ]
  },
  {
   "cell_type": "markdown",
   "metadata": {
    "slideshow": {
     "slide_type": "slide"
    }
   },
   "source": [
    "###### <font color='2471A3' size = 4.5>5. </font>Validates the response using status_code (Status 202 indicates that request has been accepted for processing)\n"
   ]
  },
  {
   "cell_type": "code",
   "execution_count": null,
   "metadata": {
    "slideshow": {
     "slide_type": "slide"
    }
   },
   "outputs": [],
   "source": [
    "# Validating Response Code\n",
    "    assert response.status_code == 202\n",
    "    \n",
    "    print(\"Submitted with queue ID: {}...\".format(queue_id))\n",
    "        "
   ]
  },
  {
   "cell_type": "markdown",
   "metadata": {
    "slideshow": {
     "slide_type": "slide"
    }
   },
   "source": [
    "###### <font color='2471A3' size = 4.5>6. </font>Makes GET request to check queue request status. "
   ]
  },
  {
   "cell_type": "code",
   "execution_count": null,
   "metadata": {
    "slideshow": {
     "slide_type": "slide"
    }
   },
   "outputs": [],
   "source": [
    "    # Now get results - this will happen when results available or when time limit reached\n",
    "    time_waited = 0    \n",
    "    get_url = \"http://bio2byte.be/disomine/api/queue/\"\n",
    "    while time_waited / TOTAL_TIME < 1.0:\n",
    "      # Get Request\n",
    "      response = requests.get(get_url + queue_id)\n",
    "      if response.status_code == 202:\n",
    "        print(\"  Waiting for results...\")\n",
    "      elif response.status_code == 200:\n",
    "        queryResults = json.loads(response.text)\n",
    "        break\n",
    "      else:\n",
    "        print(\"Server error, response {}.\".format(response.status_code))\n",
    "        break"
   ]
  },
  {
   "cell_type": "markdown",
   "metadata": {
    "slideshow": {
     "slide_type": "slide"
    }
   },
   "source": [
    "#### <font color='2471A3' size = 5>The whole function (DisoMine):</font>"
   ]
  },
  {
   "cell_type": "code",
   "execution_count": 4,
   "metadata": {
    "scrolled": true,
    "slideshow": {
     "slide_type": "slide"
    }
   },
   "outputs": [
    {
     "name": "stdout",
     "output_type": "stream",
     "text": [
      "Submitted with queue ID: 196...\n",
      "  Waiting for results...\n",
      "  Waiting for results...\n",
      "{'id': 186, 'results': [{'proteinID': 'P04637|P53_HUMAN Cellular tumor antigen', 'sequence': 'MEEPQSDPSVEPPLSQETFSDLWKLLPENNVLSPLPSQAMDDLMLSPDDIEQWFTEDPGPDEAPRMPEAAPPVAPAPAAPTPAAPAPAPSWPLSSSVPSQKTYQGSYGFRLGFLHSGTAKSVTCTYSPALNKMFCQLAKTCPVQLWVDSTPPPGTRVRAMAIYKQSQHMTEVVRRCPHHERCSDSDGLAPPQHLIRVEGNLRVEYLDDRNTFRHSVVVPYEPPEVGSDCTTIHYNYMCNSSCMGGMNRRPILTIITLEDSSGNLLGRNSFEVRVCACPGRDRRTEEENLRKKGEPHHELPPGSTKRALPNNTSSSPQPKKKPLDGEYFTLQIRGRERFEMFRELNEALELKDAQAGKEPGGSRAHSSHLKSKKGQSTSRHKKLMFKTEGPDSD', 'disomine': [0.4113033711910248, 0.5503431558609009, 0.5471815466880798, 0.506097137928009, 0.48890069127082825, 0.4662879705429077, 0.45962265133857727, 0.4359573721885681, 0.42214998602867126, 0.40029361844062805, 0.3903815746307373, 0.37155503034591675, 0.3879861533641815, 0.4265432357788086, 0.47335749864578247, 0.4369792640209198, 0.3972674012184143, 0.33916106820106506, 0.3256929814815521, 0.3145281672477722, 0.2949456572532654, 0.27783986926078796, 0.24796417355537415, 0.2772541046142578, 0.2989768087863922, 0.30544590950012207, 0.3225431740283966, 0.3414703905582428, 0.30242156982421875, 0.28299349546432495, 0.2659986913204193, 0.2501753270626068, 0.2488189935684204, 0.2611022889614105, 0.2716752588748932, 0.26398342847824097, 0.2560862898826599, 0.24359548091888428, 0.22509661316871643, 0.21056514978408813, 0.19653622806072235, 0.1913480907678604, 0.2151508629322052, 0.23955194652080536, 0.24607837200164795, 0.2505139112472534, 0.25902122259140015, 0.24679140746593475, 0.22685500979423523, 0.21905332803726196, 0.2039494663476944, 0.21930555999279022, 0.2321491688489914, 0.299701064825058, 0.36441758275032043, 0.4024810791015625, 0.4259829521179199, 0.454708993434906, 0.4455671012401581, 0.42366066575050354, 0.4085833430290222, 0.395427405834198, 0.3868841230869293, 0.38667964935302734, 0.384080171585083, 0.37283796072006226, 0.3611944317817688, 0.350310355424881, 0.33569470047950745, 0.33290234208106995, 0.3307945132255554, 0.32623958587646484, 0.31729212403297424, 0.3115532100200653, 0.3057674169540405, 0.3004142940044403, 0.2942776381969452, 0.28843486309051514, 0.2829318940639496, 0.2765458822250366, 0.27271297574043274, 0.26808086037635803, 0.2641044557094574, 0.25859594345092773, 0.25336381793022156, 0.24801120162010193, 0.24066683650016785, 0.2342848926782608, 0.2261321246623993, 0.2198895364999771, 0.21274761855602264, 0.20397374033927917, 0.19354771077632904, 0.1828593909740448, 0.17329375445842743, 0.16575950384140015, 0.16003775596618652, 0.15627817809581757, 0.1505824476480484, 0.13818372786045074, 0.13106346130371094, 0.12359913438558578, 0.11612803488969803, 0.10994202643632889, 0.11200801283121109, 0.11278323829174042, 0.11317344754934311, 0.10966019332408905, 0.10761943459510803, 0.10749972611665726, 0.10652893036603928, 0.10848958045244217, 0.11119336634874344, 0.10851352661848068, 0.10394478589296341, 0.10554196685552597, 0.11011952906847, 0.0987338200211525, 0.08579352498054504, 0.07855182141065598, 0.06935632228851318, 0.063991978764534, 0.0622476227581501, 0.06640639901161194, 0.06912797689437866, 0.066914401948452, 0.06684894859790802, 0.0626688152551651, 0.06352943927049637, 0.05809486284852028, 0.054299332201480865, 0.04981110244989395, 0.04594980925321579, 0.04390592500567436, 0.044511836022138596, 0.04426250979304314, 0.03985649719834328, 0.03655490651726723, 0.03831189498305321, 0.03908297419548035, 0.03908083587884903, 0.03926997631788254, 0.03776956722140312, 0.03559728339314461, 0.03717499598860741, 0.04257287457585335, 0.04579108580946922, 0.05337763950228691, 0.06329496204853058, 0.0786363035440445, 0.09099677205085754, 0.09732360392808914, 0.09105581790208817, 0.07879175245761871, 0.07018954306840897, 0.06216029077768326, 0.05402786657214165, 0.050682373344898224, 0.04653097316622734, 0.04485468566417694, 0.0462087020277977, 0.04759020730853081, 0.061087172478437424, 0.064703069627285, 0.07226817309856415, 0.07463066279888153, 0.08350349962711334, 0.08565104007720947, 0.08975063264369965, 0.09443444758653641, 0.09129885584115982, 0.095621258020401, 0.0901625007390976, 0.11261753737926483, 0.1363561898469925, 0.15915070474147797, 0.17965301871299744, 0.2067469209432602, 0.2149142324924469, 0.23575785756111145, 0.24559776484966278, 0.2534259259700775, 0.2586417496204376, 0.25812453031539917, 0.2480776607990265, 0.2342354655265808, 0.22324173152446747, 0.2070007175207138, 0.1871320605278015, 0.15665388107299805, 0.13296113908290863, 0.11477571725845337, 0.10352560132741928, 0.09299655258655548, 0.08880946785211563, 0.09014075249433517, 0.08293282240629196, 0.06995581835508347, 0.06247387453913689, 0.05876440927386284, 0.05837288126349449, 0.05056697130203247, 0.051259394735097885, 0.05901360884308815, 0.06472799926996231, 0.07348175346851349, 0.08435742557048798, 0.09138532727956772, 0.08722137659788132, 0.08538205176591873, 0.08678802102804184, 0.07995777577161789, 0.07629278302192688, 0.07339237630367279, 0.07309660315513611, 0.07097786664962769, 0.07201378792524338, 0.08287406712770462, 0.0964658260345459, 0.10971196740865707, 0.12654545903205872, 0.13118083775043488, 0.14363862574100494, 0.1551664024591446, 0.15899530053138733, 0.15149188041687012, 0.13590063154697418, 0.12021077424287796, 0.10413218289613724, 0.09541478008031845, 0.0969383642077446, 0.08789839595556259, 0.0821954682469368, 0.08231846988201141, 0.08162680268287659, 0.08719892799854279, 0.09488730132579803, 0.10470504313707352, 0.11769385635852814, 0.12665021419525146, 0.1448245644569397, 0.15790633857250214, 0.16975454986095428, 0.17309041321277618, 0.17413172125816345, 0.17481543123722076, 0.16868777573108673, 0.1482863426208496, 0.1272270381450653, 0.11980798095464706, 0.11894965916872025, 0.11468189209699631, 0.11184846609830856, 0.11108466982841492, 0.09894609451293945, 0.10073134303092957, 0.11024243384599686, 0.11608919501304626, 0.1257035732269287, 0.12941919267177582, 0.137473925948143, 0.13862161338329315, 0.14986348152160645, 0.1605384796857834, 0.16920821368694305, 0.1683458536863327, 0.15520884096622467, 0.13921968638896942, 0.12959551811218262, 0.1231379434466362, 0.11864911019802094, 0.11290258914232254, 0.1162264421582222, 0.11866869032382965, 0.128726989030838, 0.13632945716381073, 0.15354572236537933, 0.15903343260288239, 0.1663949191570282, 0.16893962025642395, 0.1777554750442505, 0.20188967883586884, 0.23043812811374664, 0.27193018794059753, 0.31586772203445435, 0.3357093334197998, 0.3630344569683075, 0.3810710906982422, 0.41555729508399963, 0.4467901885509491, 0.4734921157360077, 0.4858499765396118, 0.503990113735199, 0.5066378712654114, 0.5046476721763611, 0.4897976815700531, 0.48219501972198486, 0.4759272336959839, 0.47294870018959045, 0.4768413305282593, 0.4716171622276306, 0.46968889236450195, 0.46673938632011414, 0.46300986409187317, 0.4633839428424835, 0.46168845891952515, 0.45772653818130493, 0.45753639936447144, 0.45367899537086487, 0.44579559564590454, 0.438096821308136, 0.4348880648612976, 0.43211254477500916, 0.4266728162765503, 0.420812726020813, 0.41322019696235657, 0.40460097789764404, 0.38934749364852905, 0.37132948637008667, 0.34665653109550476, 0.3189511299133301, 0.29201069474220276, 0.26462042331695557, 0.2336767464876175, 0.19611772894859314, 0.1642807126045227, 0.1422635018825531, 0.12566888332366943, 0.11406004428863525, 0.11147715896368027, 0.11093222349882126, 0.11409592628479004, 0.12399079650640488, 0.1048823744058609, 0.09687919169664383, 0.10407392680644989, 0.10481126606464386, 0.10613594204187393, 0.10747372359037399, 0.10807377845048904, 0.11530085653066635, 0.12845657765865326, 0.138160839676857, 0.14735709130764008, 0.16371165215969086, 0.18614338338375092, 0.2114868462085724, 0.23520028591156006, 0.2632189095020294, 0.27471596002578735, 0.28162798285484314, 0.27693405747413635, 0.30988383293151855, 0.35745298862457275, 0.40483489632606506, 0.4320233166217804, 0.4437721073627472, 0.42944979667663574, 0.42391663789749146, 0.43116649985313416, 0.4344157874584198, 0.4385562837123871, 0.44971945881843567, 0.4546802043914795, 0.46025320887565613, 0.46162495017051697, 0.468000203371048, 0.4402867257595062, 0.4542140066623688, 0.4522039592266083, 0.4672209322452545, 0.4744188189506531, 0.4780147969722748, 0.48166969418525696, 0.4905780553817749, 0.4967198073863983, 0.49954062700271606, 0.5063782334327698, 0.5098739266395569, 0.5049333572387695, 0.5004286170005798, 0.5065973997116089, 0.46884608268737793, 0.47046777606010437, 0.4751145839691162, 0.45526304841041565, 0.42366406321525574, 0.41840940713882446, 0.420041561126709, 0.4291534721851349, 0.47308143973350525, 0.47438129782676697, 0.4445286691188812]}], 'creation_date': '2019-03-25T11:09:12.797978Z', 'email': 'email@domain.com'}\n"
     ]
    }
   ],
   "source": [
    "import requests\n",
    "import json\n",
    "import time\n",
    "\n",
    "WAIT_TIME = 5\n",
    "TOTAL_TIME = 60\n",
    "\n",
    "def getDataFromDisoMine():\n",
    "\n",
    "    # Read input Json file\n",
    "    file = open('P53.json', 'r')\n",
    "    inputFile = file.read()\n",
    "    request_json = json.loads(inputFile)\n",
    "    \n",
    "    # API Post URL\n",
    "    post_url = \"http://bio2byte.be/disomine/api/\"\n",
    "\n",
    "    # Make POST request with Json Input body\n",
    "    # WV 190206 - ADDED the 'data =' in below for it to work on Python dictionary\n",
    "    response = requests.post(post_url, json = request_json)\n",
    "    \n",
    "    queue_id = str(response.json()['queue_id'])\n",
    "    \n",
    "    # Validating Response Code\n",
    "    assert response.status_code == 202\n",
    "    \n",
    "    print(\"Submitted with queue ID: {}...\".format(queue_id))\n",
    "        \n",
    "    # Now get results - this will happen when results available or when time limit reached\n",
    "    time_waited = 0    \n",
    "    get_url = \"http://bio2byte.be/disomine/api/queue/\"\n",
    "    \n",
    "    while time_waited / TOTAL_TIME < 1.0:\n",
    "\n",
    "      # Get Request\n",
    "      response = requests.get(get_url + queue_id)\n",
    "      \n",
    "      if response.status_code == 202:\n",
    "        print(\"  Waiting for results...\")\n",
    "\n",
    "      elif response.status_code == 200:\n",
    "        queryResults = json.loads(response.text)\n",
    "        break\n",
    "       \n",
    "      else:\n",
    "        print(\"Server error, response {}.\".format(response.status_code))\n",
    "        break\n",
    "      \n",
    "      time.sleep(WAIT_TIME)\n",
    "      time_waited += WAIT_TIME\n",
    "\n",
    "\n",
    "    return queryResults\n",
    "    \n",
    "if __name__ == '__main__':\n",
    "  results = getDataFromDisoMine()\n",
    "  print(results)\n",
    "    "
   ]
  },
  {
   "cell_type": "markdown",
   "metadata": {
    "slideshow": {
     "slide_type": "slide"
    }
   },
   "source": [
    "<img src=\"img/s11.png\">"
   ]
  },
  {
   "cell_type": "markdown",
   "metadata": {
    "slideshow": {
     "slide_type": "slide"
    }
   },
   "source": [
    "<img src=\"img/s12.png\">"
   ]
  },
  {
   "cell_type": "markdown",
   "metadata": {
    "slideshow": {
     "slide_type": "slide"
    }
   },
   "source": [
    "<img src=\"img/s13.png\">"
   ]
  },
  {
   "cell_type": "markdown",
   "metadata": {
    "slideshow": {
     "slide_type": "slide"
    }
   },
   "source": [
    "<img src=\"img/s14.png\">"
   ]
  },
  {
   "cell_type": "markdown",
   "metadata": {
    "slideshow": {
     "slide_type": "slide"
    }
   },
   "source": [
    "<img src=\"img/s15.png\">"
   ]
  },
  {
   "cell_type": "markdown",
   "metadata": {
    "slideshow": {
     "slide_type": "slide"
    }
   },
   "source": [
    "# <font color='#B9770E' size = 6><b>I. Getting data from DynaMine </b></font>\n",
    "\n",
    "\n",
    "#### Creating a JSON interface which accept a json_api_key. It has six methods:\n",
    "\n"
   ]
  },
  {
   "cell_type": "markdown",
   "metadata": {
    "slideshow": {
     "slide_type": "slide"
    }
   },
   "source": [
    "\n",
    "###### a. submit_sequence:  \n"
   ]
  },
  {
   "cell_type": "code",
   "execution_count": null,
   "metadata": {
    "slideshow": {
     "slide_type": "slide"
    }
   },
   "outputs": [],
   "source": [
    "def submit_sequences(self, proteins, predictions_only=True):\n",
    "        job = {'protocol': '1.0',\n",
    "               'json_api_key': self._json_api_key,\n",
    "               'sequences': proteins,\n",
    "               'predictions_only': predictions_only,\n",
    "               }\n",
    "        return self._submit_job(job)"
   ]
  },
  {
   "cell_type": "markdown",
   "metadata": {
    "slideshow": {
     "slide_type": "slide"
    }
   },
   "source": [
    "###### b. submit_uniprot_ids:\n"
   ]
  },
  {
   "cell_type": "code",
   "execution_count": null,
   "metadata": {
    "slideshow": {
     "slide_type": "slide"
    }
   },
   "outputs": [],
   "source": [
    "def submit_uniprot_ids(self, uniprot_ids, predictions_only=True):\n",
    "        job = {'protocol': '1.0',\n",
    "               'json_api_key': self._json_api_key,\n",
    "               'uniprot_ids': uniprot_ids,\n",
    "               'predictions_only': predictions_only,\n",
    "               }\n",
    "        return self._submit_job(job)"
   ]
  },
  {
   "cell_type": "markdown",
   "metadata": {
    "slideshow": {
     "slide_type": "slide"
    }
   },
   "source": [
    "###### c. submit_job: \n"
   ]
  },
  {
   "cell_type": "code",
   "execution_count": null,
   "metadata": {
    "slideshow": {
     "slide_type": "slide"
    }
   },
   "outputs": [],
   "source": [
    "def _submit_job(self, job):\n",
    "        # response gives us a job_id\n",
    "        response = self._dynamine_request(job)\n",
    "        if response['status'] == 'error':\n",
    "            sys.stderr.write(response['message'] + '\\n')\n",
    "            sys.exit(1)\n",
    "        job_id = response['job_id']\n",
    "        self._print_progress(response['status'], False)\n",
    "        # this makes the call blocking until the results are ready\n",
    "        while response['status'] != 'completed':\n",
    "            time.sleep(1.5)\n",
    "            response = self._poll_results(job_id)\n",
    "            if response['status'] == 'error':\n",
    "                sys.stderr.write(response['message'] + '\\n')\n",
    "                sys.exit(1)\n",
    "            self._print_progress(response['status'], True)\n",
    "        return response['results']"
   ]
  },
  {
   "cell_type": "markdown",
   "metadata": {
    "slideshow": {
     "slide_type": "slide"
    }
   },
   "source": [
    "###### d. dynamine_request:\n"
   ]
  },
  {
   "cell_type": "code",
   "execution_count": null,
   "metadata": {
    "slideshow": {
     "slide_type": "slide"
    }
   },
   "outputs": [],
   "source": [
    " def _dynamine_request(self, request):\n",
    "        # this is the post request with the json encoding of the job\n",
    "        data = urllib.parse.urlencode({'batch': json.dumps(request)}).encode(\"utf-8\")\n",
    "        url = 'http://dynamine.ibsquare.be/batch_request'\n",
    "        response = ''\n",
    "\n",
    "        req = urllib.request.Request(url, data)\n",
    "        http_response = urllib.request.urlopen(req)\n",
    "        response = json.loads(http_response.read())\n",
    "\n",
    "        #response = {'status': 'error', 'message': 'Unable to communicate with the server.Please verify that %s is up and running, otherwise concact the server administrator (ERROR: %s).'}\n",
    "\n",
    "        return response"
   ]
  },
  {
   "cell_type": "markdown",
   "metadata": {
    "slideshow": {
     "slide_type": "slide"
    }
   },
   "source": [
    "###### e. poll_results: \n"
   ]
  },
  {
   "cell_type": "code",
   "execution_count": null,
   "metadata": {
    "slideshow": {
     "slide_type": "slide"
    }
   },
   "outputs": [],
   "source": [
    " def _poll_results(self, job_id):\n",
    "        request = {'protocol': '1.0',\n",
    "                   'json_api_key': self._json_api_key,\n",
    "                   'job_id': job_id\n",
    "                   }\n",
    "        return self._dynamine_request(request)"
   ]
  },
  {
   "cell_type": "markdown",
   "metadata": {
    "slideshow": {
     "slide_type": "slide"
    }
   },
   "source": [
    "###### f. print_progress:"
   ]
  },
  {
   "cell_type": "code",
   "execution_count": null,
   "metadata": {
    "slideshow": {
     "slide_type": "slide"
    }
   },
   "outputs": [],
   "source": [
    " def _print_progress(self, status, flag):\n",
    "        if status == 'queued':\n",
    "            if flag:\n",
    "                sys.stdout.write('Waiting to be processed.\\n')\n",
    "            else:\n",
    "                sys.stdout.write('The request has been submitted.\\n')\n",
    "            self._running = False\n",
    "        elif status == 'running':\n",
    "            if not self._running:\n",
    "                self._running = True\n",
    "                sys.stdout.write('The request is being processed...')\n",
    "            else:\n",
    "                sys.stdout.write('.')\n",
    "        elif status == 'completed':\n",
    "            if not self._running:\n",
    "                sys.stdout.write('The request is being processed...')\n",
    "            sys.stdout.write('done.\\n')\n",
    "        elif status == 'error':\n",
    "            sys.stderr.write('\\n\\nError while processing the request:\\n\\n')\n",
    "        sys.stdout.flush()"
   ]
  },
  {
   "cell_type": "markdown",
   "metadata": {
    "slideshow": {
     "slide_type": "slide"
    }
   },
   "source": [
    "#### <font color='2471A3' size = 5>The whole function (DynaMine):</font>"
   ]
  },
  {
   "cell_type": "code",
   "execution_count": null,
   "metadata": {
    "slideshow": {
     "slide_type": "slide"
    }
   },
   "outputs": [],
   "source": [
    "\"\"\"\n",
    "Created by Elisa Cilia on 2014-08-20.\n",
    "Copyright (c) 2014 Elisa Cilia. All rights reserved.\n",
    "\"\"\"\n",
    "import json\n",
    "import urllib.request, urllib.parse, urllib.error\n",
    "import time\n",
    "import sys\n",
    "\n",
    "# creating a JSON interface\n",
    "\n",
    "class DynaMineJSONInterface:\n",
    "\n",
    "    def __init__(self, json_api_key):\n",
    "        self._running = False\n",
    "        self._json_api_key = '3469626345366a923473c455fd6bb283621e70a3ba5428f301501f8a'\n",
    "\n",
    "    def submit_sequences(self, proteins, predictions_only=True):\n",
    "        job = {'protocol': '1.0',\n",
    "               'json_api_key': self._json_api_key,\n",
    "               'sequences': proteins,\n",
    "               'predictions_only': predictions_only,\n",
    "               }\n",
    "        return self._submit_job(job)\n",
    "\n",
    "    def submit_uniprot_ids(self, uniprot_ids, predictions_only=True):\n",
    "        job = {'protocol': '1.0',\n",
    "               'json_api_key': self._json_api_key,\n",
    "               'uniprot_ids': uniprot_ids,\n",
    "               'predictions_only': predictions_only,\n",
    "               }\n",
    "        return self._submit_job(job)\n",
    "\n",
    "    def _submit_job(self, job):\n",
    "        # response gives us a job_id\n",
    "        response = self._dynamine_request(job)\n",
    "        if response['status'] == 'error':\n",
    "            sys.stderr.write(response['message'] + '\\n')\n",
    "            sys.exit(1)\n",
    "        job_id = response['job_id']\n",
    "        self._print_progress(response['status'], False)\n",
    "        # this makes the call blocking until the results are ready\n",
    "        while response['status'] != 'completed':\n",
    "            time.sleep(1.5)\n",
    "            response = self._poll_results(job_id)\n",
    "            if response['status'] == 'error':\n",
    "                sys.stderr.write(response['message'] + '\\n')\n",
    "                sys.exit(1)\n",
    "            self._print_progress(response['status'], True)\n",
    "        return response['results']\n",
    "\n",
    "    def _dynamine_request(self, request):\n",
    "        # this is the post request with the json encoding of the job\n",
    "        data = urllib.parse.urlencode({'batch': json.dumps(request)}).encode(\"utf-8\")\n",
    "        url = 'http://dynamine.ibsquare.be/batch_request'\n",
    "        response = ''\n",
    "\n",
    "        req = urllib.request.Request(url, data)\n",
    "        http_response = urllib.request.urlopen(req)\n",
    "        response = json.loads(http_response.read())\n",
    "\n",
    "        #response = {'status': 'error', 'message': 'Unable to communicate with the server.Please verify that %s is up and running, otherwise concact the server administrator (ERROR: %s).'}\n",
    "\n",
    "        return response\n",
    "\n",
    "    def _poll_results(self, job_id):\n",
    "        request = {'protocol': '1.0',\n",
    "                   'json_api_key': self._json_api_key,\n",
    "                   'job_id': job_id\n",
    "                   }\n",
    "        return self._dynamine_request(request)\n",
    "\n",
    "    def _print_progress(self, status, flag):\n",
    "        if status == 'queued':\n",
    "            if flag:\n",
    "                sys.stdout.write('Waiting to be processed.\\n')\n",
    "            else:\n",
    "                sys.stdout.write('The request has been submitted.\\n')\n",
    "            self._running = False\n",
    "        elif status == 'running':\n",
    "            if not self._running:\n",
    "                self._running = True\n",
    "                sys.stdout.write('The request is being processed...')\n",
    "            else:\n",
    "                sys.stdout.write('.')\n",
    "        elif status == 'completed':\n",
    "            if not self._running:\n",
    "                sys.stdout.write('The request is being processed...')\n",
    "            sys.stdout.write('done.\\n')\n",
    "        elif status == 'error':\n",
    "            sys.stderr.write('\\n\\nError while processing the request:\\n\\n')\n",
    "        sys.stdout.flush()\n",
    "\n",
    "\n",
    "if __name__ == '__main__':\n",
    "    json_api_key = 'd03e71ca849d3bc5277fd68e7a0f45124df5be84bf348db65218982f'\n",
    "    dynamine = DynaMineJSONInterface(json_api_key)\n",
    "\n",
    "    # Read input Json file\n",
    "    file = open('P53_5O1A.json', 'r')\n",
    "    inputFile = file.read()\n",
    "    proteins = json.loads(inputFile)\n",
    "    \n",
    "results = dynamine.submit_sequences(proteins, predictions_only=False)\n",
    "print()\n",
    "results\n"
   ]
  },
  {
   "cell_type": "markdown",
   "metadata": {
    "slideshow": {
     "slide_type": "slide"
    }
   },
   "source": [
    "<img src=\"img/s16.png\">"
   ]
  },
  {
   "cell_type": "markdown",
   "metadata": {
    "slideshow": {
     "slide_type": "slide"
    }
   },
   "source": [
    "<img src=\"img/s17.png\">"
   ]
  },
  {
   "cell_type": "markdown",
   "metadata": {
    "slideshow": {
     "slide_type": "slide"
    }
   },
   "source": [
    "<img src=\"img/s18.png\">"
   ]
  },
  {
   "cell_type": "markdown",
   "metadata": {
    "slideshow": {
     "slide_type": "slide"
    }
   },
   "source": [
    "<img src=\"img/s_case_study.png\">"
   ]
  },
  {
   "cell_type": "markdown",
   "metadata": {
    "slideshow": {
     "slide_type": "slide"
    }
   },
   "source": [
    "# <font color='#B9770E' size = 6><b> Plotting DisoMine, DynaMine and EFoldMine Results </b></font>"
   ]
  },
  {
   "cell_type": "markdown",
   "metadata": {
    "slideshow": {
     "slide_type": "slide"
    }
   },
   "source": [
    "### 1. Reads the JSON formatted result\n"
   ]
  },
  {
   "cell_type": "code",
   "execution_count": null,
   "metadata": {
    "slideshow": {
     "slide_type": "slide"
    }
   },
   "outputs": [],
   "source": [
    "file = open('Disomine_backbone_sidechain_efoldmine.json', 'r')\n",
    "input = file.read()\n",
    "request_json = json.loads(input)"
   ]
  },
  {
   "cell_type": "markdown",
   "metadata": {
    "slideshow": {
     "slide_type": "slide"
    }
   },
   "source": [
    "### 2. Defines an index for each residue\n"
   ]
  },
  {
   "cell_type": "code",
   "execution_count": null,
   "metadata": {
    "slideshow": {
     "slide_type": "slide"
    }
   },
   "outputs": [],
   "source": [
    "seq = request_json[\"results\"][0]['sequence']"
   ]
  },
  {
   "cell_type": "markdown",
   "metadata": {
    "slideshow": {
     "slide_type": "slide"
    }
   },
   "source": [
    "### 3. Defines the corresponding scores for each residue\n"
   ]
  },
  {
   "cell_type": "code",
   "execution_count": null,
   "metadata": {
    "slideshow": {
     "slide_type": "slide"
    }
   },
   "outputs": [],
   "source": [
    "#DisoMine Score\n",
    "disomine = request_json[\"results\"][0]['disomine']"
   ]
  },
  {
   "cell_type": "markdown",
   "metadata": {
    "slideshow": {
     "slide_type": "slide"
    }
   },
   "source": [
    "### 4. Creats the plot using \"figure\", \"add_subplot\" and \"show\" "
   ]
  },
  {
   "cell_type": "code",
   "execution_count": null,
   "metadata": {
    "slideshow": {
     "slide_type": "slide"
    }
   },
   "outputs": [],
   "source": [
    "# creating a plot\n",
    "fig = plt.figure(figsize=(18, 16), dpi= 80, facecolor='w', edgecolor='k')\n",
    "\n",
    "#ploting the DisoMine results\n",
    "axes = fig.add_subplot(221)\n",
    "axes.plot(range(len(seq)), disomine)\n",
    "axes.set_title(\"DisoMine\")\n",
    "\n",
    "plt.show()"
   ]
  },
  {
   "cell_type": "markdown",
   "metadata": {
    "slideshow": {
     "slide_type": "slide"
    }
   },
   "source": [
    "#### <font color='2471A3' size = 5>The whole function (Plitting):</font>"
   ]
  },
  {
   "cell_type": "code",
   "execution_count": 2,
   "metadata": {
    "slideshow": {
     "slide_type": "slide"
    }
   },
   "outputs": [
    {
     "data": {
      "image/png": "[encoded data removed]",
      "text/plain": [
       "<Figure size 1440x1280 with 4 Axes>"
      ]
     },
     "metadata": {},
     "output_type": "display_data"
    }
   ],
   "source": [
    "import matplotlib.pyplot as plt\n",
    "import numpy as np\n",
    "import json\n",
    "\n",
    "# Read input Json file\n",
    "file = open('Disomine_backbone_sidechain_efoldmine.json', 'r')\n",
    "input = file.read()\n",
    "request_json = json.loads(input)\n",
    "\n",
    "# residue index\n",
    "seq = request_json[\"results\"][0]['sequence']\n",
    "#DisoMine Score\n",
    "disomine = request_json[\"results\"][0]['disomine']\n",
    "#backbone Score\n",
    "backbone = request_json[\"results\"][0]['backbone']\n",
    "#sidechain Score\n",
    "sidechain = request_json[\"results\"][0]['sidechain']\n",
    "#efoldmine Score\n",
    "efoldmine = request_json[\"results\"][0]['efoldmine']\n",
    "# creating a plot\n",
    "fig = plt.figure(figsize=(18, 16), dpi= 80, facecolor='w', edgecolor='k')\n",
    "\n",
    "#ploting the DisoMine results\n",
    "axes = fig.add_subplot(221)\n",
    "axes.plot(range(len(seq)), disomine)\n",
    "axes.set_title(\"DisoMine\")\n",
    "\n",
    "#ploting the Backbone results \n",
    "axes = fig.add_subplot(222)\n",
    "axes.plot(range(len(seq)), backbone)\n",
    "axes.set_title(\"Backbone\")\n",
    "\n",
    "#ploting the SideChain results\n",
    "axes = fig.add_subplot(223)\n",
    "axes.plot(range(len(seq)), sidechain)\n",
    "axes.set_title(\"SideChain\")\n",
    "\n",
    "#ploting the EFoldMine results\n",
    "axes = fig.add_subplot(224)\n",
    "axes.plot(range(len(seq)), efoldmine)\n",
    "axes.set_title(\"EFoldMine\")\n",
    "\n",
    "plt.show()\n"
   ]
  },
  {
   "cell_type": "markdown",
   "metadata": {
    "slideshow": {
     "slide_type": "slide"
    }
   },
   "source": [
    "<img src=\"img/s19.png\">"
   ]
  },
  {
   "cell_type": "markdown",
   "metadata": {
    "slideshow": {
     "slide_type": "slide"
    }
   },
   "source": [
    "<img src=\"img/s20.png\">"
   ]
  },
  {
   "cell_type": "markdown",
   "metadata": {
    "slideshow": {
     "slide_type": "slide"
    }
   },
   "source": [
    "<img src=\"img/s21.png\">"
   ]
  },
  {
   "cell_type": "markdown",
   "metadata": {
    "slideshow": {
     "slide_type": "slide"
    }
   },
   "source": [
    "\n",
    "# <font color='#B9770E' size = 6><b>Getting data from DEOGEN2</b></font>\n",
    "\n"
   ]
  },
  {
   "cell_type": "markdown",
   "metadata": {
    "slideshow": {
     "slide_type": "slide"
    }
   },
   "source": [
    "###### <font color='2471A3' size = 4.5>1. </font>Defining the api-endpoint \n"
   ]
  },
  {
   "cell_type": "code",
   "execution_count": null,
   "metadata": {
    "slideshow": {
     "slide_type": "slide"
    }
   },
   "outputs": [],
   "source": [
    "    api_endpoint = \"https://deogen2.mutaframe.com/fetch_results.php\"\n"
   ]
  },
  {
   "cell_type": "markdown",
   "metadata": {
    "slideshow": {
     "slide_type": "slide"
    }
   },
   "source": [
    "###### <font color='2471A3' size = 4.5>2. </font>Data to be sent to api \n"
   ]
  },
  {
   "cell_type": "code",
   "execution_count": null,
   "metadata": {
    "slideshow": {
     "slide_type": "slide"
    }
   },
   "outputs": [],
   "source": [
    " # API key\n",
    "    key = 1524214674089\n",
    "    sequence_id = sequence_id\n",
    "    mutation = mutation\n",
    "    structure_id = 0\n",
    "    # data to be sent to api\n",
    "    data = {\n",
    "        \" \": key,\n",
    "        \"sequence_id\": sequence_id,\n",
    "        \"mutation\": mutation,\n",
    "        \"structure_id\": structure_id,\n",
    "    }"
   ]
  },
  {
   "cell_type": "markdown",
   "metadata": {
    "slideshow": {
     "slide_type": "slide"
    }
   },
   "source": [
    "###### <font color='2471A3' size = 4.5>3. </font>Make POST request with Input body "
   ]
  },
  {
   "cell_type": "code",
   "execution_count": null,
   "metadata": {
    "slideshow": {
     "slide_type": "slide"
    }
   },
   "outputs": [],
   "source": [
    "    response = requests.get(api_endpoint, data)\n",
    "    queryResults = json.loads(response.text)\n",
    "    return queryResults"
   ]
  },
  {
   "cell_type": "markdown",
   "metadata": {
    "slideshow": {
     "slide_type": "slide"
    }
   },
   "source": [
    "#### <font color='2471A3' size = 5>The whole function (DEOGEN2):</font>"
   ]
  },
  {
   "cell_type": "code",
   "execution_count": null,
   "metadata": {
    "slideshow": {
     "slide_type": "slide"
    }
   },
   "outputs": [],
   "source": [
    "import json\n",
    "\n",
    "def getDataFromDEOGEN2(sequence_id, mutation):\n",
    "\n",
    "    # defining the api-endpoint\n",
    "    api_endpoint = \"https://deogen2.mutaframe.com/fetch_results.php\"\n",
    "\n",
    "    # API key\n",
    "    key = 1524214674089\n",
    "    sequence_id = sequence_id\n",
    "    mutation = mutation\n",
    "    structure_id = 0\n",
    "\n",
    "    # data to be sent to api\n",
    "    data = {\n",
    "        \" \": key,\n",
    "        \"sequence_id\": sequence_id,\n",
    "        \"mutation\": mutation,\n",
    "        \"structure_id\": structure_id,\n",
    "    }\n",
    "\n",
    "    # Make POST request with Input body\n",
    "    response = requests.get(api_endpoint, data)\n",
    "    queryResults = json.loads(response.text)\n",
    "    return queryResults\n",
    "\n",
    "if __name__ == '__main__':\n",
    "  results = getDataFromDEOGEN2(64689, 'N45S')\n",
    "  print(results)\n",
    "\n"
   ]
  },
  {
   "cell_type": "markdown",
   "metadata": {
    "slideshow": {
     "slide_type": "slide"
    }
   },
   "source": [
    "### Plotting graph from DEOGEN2 Result "
   ]
  },
  {
   "cell_type": "markdown",
   "metadata": {
    "slideshow": {
     "slide_type": "slide"
    }
   },
   "source": [
    "###### <font color='2471A3' size = 4.5>3. </font>Read input Json file "
   ]
  },
  {
   "cell_type": "code",
   "execution_count": null,
   "metadata": {
    "slideshow": {
     "slide_type": "slide"
    }
   },
   "outputs": [],
   "source": [
    "file = open('DEOGEN2.json', 'r')\n",
    "    input = file.read()\n",
    "    request_json = json.loads(input)"
   ]
  },
  {
   "cell_type": "markdown",
   "metadata": {
    "slideshow": {
     "slide_type": "slide"
    }
   },
   "source": [
    "###### <font color='2471A3' size = 4.5>3. </font>Mutation DEOGEN2 scores "
   ]
  },
  {
   "cell_type": "code",
   "execution_count": null,
   "metadata": {
    "slideshow": {
     "slide_type": "slide"
    }
   },
   "outputs": [],
   "source": [
    "aa = 'CDSQKIPTFNGHLRWAVEYM'\n",
    "    prediction = []\n",
    "    mutations =[]\n",
    "    for x in aa:\n",
    "        if x != res[0]:\n",
    "            df = request_json['all_deogen2'][res + x]\n",
    "            prediction.append(df)\n",
    "            mutations.append(res + x)\n",
    "\n",
    "    deogen2 = [float(i) for i in prediction]"
   ]
  },
  {
   "cell_type": "markdown",
   "metadata": {
    "slideshow": {
     "slide_type": "slide"
    }
   },
   "source": [
    "###### <font color='2471A3' size = 4.5>3. </font>Creating a plot "
   ]
  },
  {
   "cell_type": "code",
   "execution_count": null,
   "metadata": {
    "slideshow": {
     "slide_type": "slide"
    }
   },
   "outputs": [],
   "source": [
    "fig = plt.figure(figsize=(18, 16), dpi= 80, facecolor='w', edgecolor='k')"
   ]
  },
  {
   "cell_type": "markdown",
   "metadata": {
    "slideshow": {
     "slide_type": "slide"
    }
   },
   "source": [
    "###### <font color='2471A3' size = 4.5>3. </font>ploting the DEOGEN2 results "
   ]
  },
  {
   "cell_type": "code",
   "execution_count": null,
   "metadata": {
    "slideshow": {
     "slide_type": "slide"
    }
   },
   "outputs": [],
   "source": [
    "axes = fig.add_subplot(312)\n",
    "    axes.bar(mutations, deogen2)\n",
    "    plt.xticks(mutations, size = 12)\n",
    "    axes.set_title(\"Results Of DEOGEN2 For Amino Acid Replacement Of \" + res , size = 15)\n",
    "    plt.show()"
   ]
  },
  {
   "cell_type": "markdown",
   "metadata": {
    "slideshow": {
     "slide_type": "slide"
    }
   },
   "source": [
    "#### <font color='2471A3' size = 5>The whole function (plotting DEOGEN2):</font>"
   ]
  },
  {
   "cell_type": "code",
   "execution_count": null,
   "metadata": {
    "slideshow": {
     "slide_type": "slide"
    }
   },
   "outputs": [],
   "source": [
    "import matplotlib.pyplot as plt\n",
    "import json\n",
    "\n",
    "def deogen2plot(res):\n",
    "\n",
    "    # Read input Json file\n",
    "    file = open('DEOGEN2.json', 'r')\n",
    "    input = file.read()\n",
    "    request_json = json.loads(input)\n",
    "\n",
    "    # mutation DEOGEN2 scores\n",
    "\n",
    "    aa = 'CDSQKIPTFNGHLRWAVEYM'\n",
    "    prediction = []\n",
    "    mutations =[]\n",
    "    for x in aa:\n",
    "        if x != res[0]:\n",
    "            df = request_json['all_deogen2'][res + x]\n",
    "            prediction.append(df)\n",
    "            mutations.append(res + x)\n",
    "\n",
    "    deogen2 = [float(i) for i in prediction]\n",
    "\n",
    "    # creating a plot\n",
    "\n",
    "    fig = plt.figure(figsize=(18, 16), dpi= 80, facecolor='w', edgecolor='k')\n",
    "\n",
    "    #ploting the DEOGEN2 results\n",
    "    \n",
    "    axes = fig.add_subplot(312)\n",
    "    axes.bar(mutations, deogen2)\n",
    "    plt.xticks(mutations, size = 12)\n",
    "    axes.set_title(\"Results Of DEOGEN2 For Amino Acid Replacement Of \" + res , size = 15)\n",
    "\n",
    "    plt.show()\n",
    "\n",
    "if __name__ == '__main__':\n",
    "  results = deogen2plot('R372')\n",
    "  print(results)\n"
   ]
  }
 ],
 "metadata": {
  "celltoolbar": "Slideshow",
  "kernelspec": {
   "display_name": "Python 3",
   "language": "python",
   "name": "python3"
  },
  "language_info": {
   "codemirror_mode": {
    "name": "ipython",
    "version": 3
   },
   "file_extension": ".py",
   "mimetype": "text/x-python",
   "name": "python",
   "nbconvert_exporter": "python",
   "pygments_lexer": "ipython3",
   "version": "3.7.1"
  }
 },
 "nbformat": 4,
 "nbformat_minor": 2
}
