{
 "cells": [
  {
   "cell_type": "markdown",
   "metadata": {
    "scrolled": true,
    "slideshow": {
     "slide_type": "slide"
    }
   },
   "source": [
    "<img src=\"img/s1.png\">"
   ]
  },
  {
   "cell_type": "markdown",
   "metadata": {
    "slideshow": {
     "slide_type": "slide"
    }
   },
   "source": [
    "<img src=\"img/s2.png\">"
   ]
  },
  {
   "cell_type": "markdown",
   "metadata": {
    "slideshow": {
     "slide_type": "slide"
    }
   },
   "source": [
    "<img src=\"img/s3.png\">"
   ]
  },
  {
   "cell_type": "markdown",
   "metadata": {
    "slideshow": {
     "slide_type": "slide"
    }
   },
   "source": [
    "<img src=\"img/s4.png\">"
   ]
  },
  {
   "cell_type": "markdown",
   "metadata": {
    "slideshow": {
     "slide_type": "slide"
    }
   },
   "source": [
    "<img src=\"img/s5.png\">"
   ]
  },
  {
   "cell_type": "markdown",
   "metadata": {
    "slideshow": {
     "slide_type": "slide"
    }
   },
   "source": [
    "<img src=\"img/s6.png\">"
   ]
  },
  {
   "cell_type": "markdown",
   "metadata": {
    "slideshow": {
     "slide_type": "slide"
    }
   },
   "source": [
    "<img src=\"img/s7.png\">"
   ]
  },
  {
   "cell_type": "markdown",
   "metadata": {
    "slideshow": {
     "slide_type": "slide"
    }
   },
   "source": [
    "<img src=\"img/s8.png\">"
   ]
  },
  {
   "cell_type": "markdown",
   "metadata": {
    "slideshow": {
     "slide_type": "slide"
    }
   },
   "source": [
    "<img src=\"img/s9.png\">"
   ]
  },
  {
   "cell_type": "markdown",
   "metadata": {
    "slideshow": {
     "slide_type": "slide"
    }
   },
   "source": [
    "<img src=\"img/s10.png\">"
   ]
  },
  {
   "cell_type": "markdown",
   "metadata": {
    "slideshow": {
     "slide_type": "slide"
    }
   },
   "source": [
    "<img src=\"img/s_API.png\">"
   ]
  },
  {
   "cell_type": "markdown",
   "metadata": {
    "slideshow": {
     "slide_type": "slide"
    }
   },
   "source": [
    "## <font color='2471A3' size=5 >Python Scripts:</font>\n",
    "\n",
    "#### <font color='2471A3' size = 4.5>I. </font>Converting FASTA  to an appropriate format (Preparing the input)\n",
    "#### <font color='2471A3' size = 4.5>II. </font>Getting data from the web server\n",
    "#### <font color='2471A3' size = 4.5>III. </font>Plotting the results\n"
   ]
  },
  {
   "cell_type": "markdown",
   "metadata": {
    "slideshow": {
     "slide_type": "slide"
    }
   },
   "source": [
    "#### <font color='#B9770E' size = 6><b> I. Converting FASTA to Json formatted file:  </b></font> \n",
    "##### The web APIs support only JSON format.\n"
   ]
  },
  {
   "cell_type": "markdown",
   "metadata": {
    "slideshow": {
     "slide_type": "slide"
    }
   },
   "source": [
    "### <center><font color='2471A3' size = 6><b> The fasta2json Function</b></font></center>\n",
    "#### <font color='2471A3' size = 5>The Steps:</font>\n",
    "#### The function accepts a FASTA file as input and return a JSON file as output.\n",
    "###### <font color='2471A3' size = 4.5>1. </font> The  Bio module is imported \n",
    "###### <font color='2471A3' size = 4.5>1. </font> A FASTA file can be accepted as the input\n",
    "###### <font color='2471A3' size = 4.5>2. </font> The output file is created (json format)\n",
    "###### <font color='2471A3' size = 4.5>3. </font>The file will be parsed by Bio module and the information of sequences will be save as fasta elements  ( id and seq, etc.)\n",
    "###### <font color='2471A3' size = 4.5>4. </font>Finally, the fasta elements are written in the output file with our desired format. \n"
   ]
  },
  {
   "cell_type": "code",
   "execution_count": 19,
   "metadata": {
    "slideshow": {
     "slide_type": "slide"
    }
   },
   "outputs": [
    {
     "ename": "ModuleNotFoundError",
     "evalue": "No module named 'Bio'",
     "output_type": "error",
     "traceback": [
      "\u001b[0;31m---------------------------------------------------------------------------\u001b[0m",
      "\u001b[0;31mModuleNotFoundError\u001b[0m                       Traceback (most recent call last)",
      "\u001b[0;32m<ipython-input-19-19199146e9a6>\u001b[0m in \u001b[0;36m<module>\u001b[0;34m\u001b[0m\n\u001b[0;32m----> 1\u001b[0;31m \u001b[0;32mfrom\u001b[0m \u001b[0mBio\u001b[0m \u001b[0;32mimport\u001b[0m \u001b[0mSeqIO\u001b[0m\u001b[0;34m\u001b[0m\u001b[0;34m\u001b[0m\u001b[0m\n\u001b[0m\u001b[1;32m      2\u001b[0m \u001b[0;32mdef\u001b[0m \u001b[0mfasta2json\u001b[0m\u001b[0;34m(\u001b[0m\u001b[0mfastafile\u001b[0m\u001b[0;34m)\u001b[0m\u001b[0;34m:\u001b[0m\u001b[0;34m\u001b[0m\u001b[0;34m\u001b[0m\u001b[0m\n\u001b[1;32m      3\u001b[0m     \u001b[0mf\u001b[0m \u001b[0;34m=\u001b[0m \u001b[0mopen\u001b[0m\u001b[0;34m(\u001b[0m\u001b[0;34m'ProSeqJson.json'\u001b[0m\u001b[0;34m,\u001b[0m\u001b[0;34m'w+'\u001b[0m\u001b[0;34m)\u001b[0m\u001b[0;34m\u001b[0m\u001b[0;34m\u001b[0m\u001b[0m\n\u001b[1;32m      4\u001b[0m     \u001b[0mf\u001b[0m\u001b[0;34m.\u001b[0m\u001b[0mwrite\u001b[0m\u001b[0;34m(\u001b[0m\u001b[0;34m'{'\u001b[0m\u001b[0;34m)\u001b[0m\u001b[0;34m\u001b[0m\u001b[0;34m\u001b[0m\u001b[0m\n\u001b[1;32m      5\u001b[0m     \u001b[0;32mfor\u001b[0m \u001b[0mseq_record\u001b[0m \u001b[0;32min\u001b[0m \u001b[0mSeqIO\u001b[0m\u001b[0;34m.\u001b[0m\u001b[0mparse\u001b[0m\u001b[0;34m(\u001b[0m\u001b[0mfastafile\u001b[0m\u001b[0;34m,\u001b[0m\u001b[0;34m'fasta'\u001b[0m\u001b[0;34m)\u001b[0m\u001b[0;34m:\u001b[0m\u001b[0;34m\u001b[0m\u001b[0;34m\u001b[0m\u001b[0m\n",
      "\u001b[0;31mModuleNotFoundError\u001b[0m: No module named 'Bio'"
     ]
    }
   ],
   "source": [
    "from Bio import SeqIO\n",
    "def fasta2json(fastafile):\n",
    "    f = open('P53_5O1A.json','w+')\n",
    "    f.write('{')\n",
    "    for seq_record in SeqIO.parse(fastafile,'fasta'):\n",
    "        f.write('\"%s\": \"%s\",' % (seq_record.id, seq_record.seq ))\n",
    "    f.write('}')\n",
    "if __name__ == '__main__':\n",
    " results = fasta2json('/Users/Niloofar/Desktop/Jupyter/inputProSeqFasta.fasta')\n"
   ]
  },
  {
   "cell_type": "markdown",
   "metadata": {
    "slideshow": {
     "slide_type": "slide"
    }
   },
   "source": [
    "## <font color='#B9770E' size = 6><b>II. Getting data from DisoMine</b></font>\n",
    "\n"
   ]
  },
  {
   "cell_type": "markdown",
   "metadata": {
    "slideshow": {
     "slide_type": "slide"
    }
   },
   "source": [
    "### <center><font color='2471A3' size = 6><b>The getDataFrom DisoMine Function</b></font>\n",
    "#### This function accepts a JSON file as input and returns the DisoMine results as output.\n",
    "#### Here two modules are used (\"requests\" and \"json\")\n"
   ]
  },
  {
   "cell_type": "markdown",
   "metadata": {
    "slideshow": {
     "slide_type": "slide"
    }
   },
   "source": [
    "#### <font color='2471A3' size = 5>The Steps:</font>\n"
   ]
  },
  {
   "cell_type": "markdown",
   "metadata": {
    "slideshow": {
     "slide_type": "slide"
    }
   },
   "source": [
    "###### <font color='2471A3' size = 4.5>1. </font> Accepts a JSON file as an input "
   ]
  },
  {
   "cell_type": "code",
   "execution_count": null,
   "metadata": {
    "slideshow": {
     "slide_type": "slide"
    }
   },
   "outputs": [],
   "source": [
    "# Read input Json file\n",
    "    file = open('P53_5O1A.json', 'r')\n",
    "    inputFile = file.read()"
   ]
  },
  {
   "cell_type": "markdown",
   "metadata": {
    "slideshow": {
     "slide_type": "slide"
    }
   },
   "source": [
    "###### <font color='2471A3' size = 4.5>2. </font> Reads the file using the \"JSON\" module.\n"
   ]
  },
  {
   "cell_type": "code",
   "execution_count": null,
   "metadata": {
    "slideshow": {
     "slide_type": "slide"
    }
   },
   "outputs": [],
   "source": [
    "request_json = json.loads(inputFile)"
   ]
  },
  {
   "cell_type": "markdown",
   "metadata": {
    "slideshow": {
     "slide_type": "slide"
    }
   },
   "source": [
    "###### <font color='2471A3' size = 4.5>3. </font>Defines a variable for our API URL.\n"
   ]
  },
  {
   "cell_type": "code",
   "execution_count": null,
   "metadata": {
    "slideshow": {
     "slide_type": "slide"
    }
   },
   "outputs": [],
   "source": [
    "# API Post URL\n",
    "    post_url = \"http://bio2byte.be/disomine/api/\""
   ]
  },
  {
   "cell_type": "markdown",
   "metadata": {
    "slideshow": {
     "slide_type": "slide"
    }
   },
   "source": [
    "###### <font color='2471A3' size = 4.5>4. </font> Makes POST request with JSON input body using \"post\" (It accepts two urguments: I. API URL, and II. JSON file )\n"
   ]
  },
  {
   "cell_type": "code",
   "execution_count": 20,
   "metadata": {
    "slideshow": {
     "slide_type": "slide"
    }
   },
   "outputs": [
    {
     "ename": "IndentationError",
     "evalue": "unexpected indent (<ipython-input-20-ff7529e2457a>, line 4)",
     "output_type": "error",
     "traceback": [
      "\u001b[0;36m  File \u001b[0;32m\"<ipython-input-20-ff7529e2457a>\"\u001b[0;36m, line \u001b[0;32m4\u001b[0m\n\u001b[0;31m    response = requests.post(post_url, json = request_json)\u001b[0m\n\u001b[0m    ^\u001b[0m\n\u001b[0;31mIndentationError\u001b[0m\u001b[0;31m:\u001b[0m unexpected indent\n"
     ]
    }
   ],
   "source": [
    "# Make POST request with Json Input body\n",
    "    # WV 190206 - ADDED the 'data =' in below for it to work on Python dictionary\n",
    "    \n",
    "    response = requests.post(post_url, json = request_json)\n",
    "    queue_id = str(response.json()['queue_id'])\n",
    "    "
   ]
  },
  {
   "cell_type": "markdown",
   "metadata": {
    "slideshow": {
     "slide_type": "slide"
    }
   },
   "source": [
    "###### <font color='2471A3' size = 4.5>5. </font>Validates the response using status_code (Status 202 indicates that request has been accepted for processing)\n"
   ]
  },
  {
   "cell_type": "code",
   "execution_count": null,
   "metadata": {
    "slideshow": {
     "slide_type": "slide"
    }
   },
   "outputs": [],
   "source": [
    "# Validating Response Code\n",
    "    assert response.status_code == 202\n",
    "    \n",
    "    print(\"Submitted with queue ID: {}...\".format(queue_id))\n",
    "        "
   ]
  },
  {
   "cell_type": "markdown",
   "metadata": {
    "slideshow": {
     "slide_type": "slide"
    }
   },
   "source": [
    "###### <font color='2471A3' size = 4.5>6. </font>Makes GET request to check queue request status. "
   ]
  },
  {
   "cell_type": "code",
   "execution_count": null,
   "metadata": {
    "slideshow": {
     "slide_type": "slide"
    }
   },
   "outputs": [],
   "source": [
    "    # Now get results - this will happen when results available or when time limit reached\n",
    "    time_waited = 0    \n",
    "    get_url = \"http://bio2byte.be/disomine/api/queue/\"\n",
    "    while time_waited / TOTAL_TIME < 1.0:\n",
    "      # Get Request\n",
    "      response = requests.get(get_url + queue_id)\n",
    "      if response.status_code == 202:\n",
    "        print(\"  Waiting for results...\")\n",
    "      elif response.status_code == 200:\n",
    "        queryResults = json.loads(response.text)\n",
    "        break\n",
    "      else:\n",
    "        print(\"Server error, response {}.\".format(response.status_code))\n",
    "        break"
   ]
  },
  {
   "cell_type": "markdown",
   "metadata": {
    "slideshow": {
     "slide_type": "slide"
    }
   },
   "source": [
    "#### <font color='2471A3' size = 5>The whole function (DisoMine):</font>"
   ]
  },
  {
   "cell_type": "code",
   "execution_count": null,
   "metadata": {
    "scrolled": true,
    "slideshow": {
     "slide_type": "slide"
    }
   },
   "outputs": [],
   "source": [
    "import requests\n",
    "import json\n",
    "import time\n",
    "\n",
    "WAIT_TIME = 5\n",
    "TOTAL_TIME = 60\n",
    "\n",
    "def getDataFromDisoMine():\n",
    "\n",
    "    # Read input Json file\n",
    "    file = open('P53_5O1A.json', 'r')\n",
    "    inputFile = file.read()\n",
    "    request_json = json.loads(inputFile)\n",
    "    \n",
    "    # API Post URL\n",
    "    post_url = \"http://bio2byte.be/disomine/api/\"\n",
    "\n",
    "    # Make POST request with Json Input body\n",
    "    # WV 190206 - ADDED the 'data =' in below for it to work on Python dictionary\n",
    "    response = requests.post(post_url, json = request_json)\n",
    "    \n",
    "    queue_id = str(response.json()['queue_id'])\n",
    "    \n",
    "    # Validating Response Code\n",
    "    assert response.status_code == 202\n",
    "    \n",
    "    print(\"Submitted with queue ID: {}...\".format(queue_id))\n",
    "        \n",
    "    # Now get results - this will happen when results available or when time limit reached\n",
    "    time_waited = 0    \n",
    "    get_url = \"http://bio2byte.be/disomine/api/queue/\"\n",
    "    \n",
    "    while time_waited / TOTAL_TIME < 1.0:\n",
    "\n",
    "      # Get Request\n",
    "      response = requests.get(get_url + queue_id)\n",
    "      \n",
    "      if response.status_code == 202:\n",
    "        print(\"  Waiting for results...\")\n",
    "\n",
    "      elif response.status_code == 200:\n",
    "        queryResults = json.loads(response.text)\n",
    "        break\n",
    "       \n",
    "      else:\n",
    "        print(\"Server error, response {}.\".format(response.status_code))\n",
    "        break\n",
    "      \n",
    "      time.sleep(WAIT_TIME)\n",
    "      time_waited += WAIT_TIME\n",
    "\n",
    "\n",
    "    return queryResults\n",
    "    \n",
    "if __name__ == '__main__':\n",
    "  results = getDataFromDisoMine()\n",
    "  print(results)\n",
    "    "
   ]
  },
  {
   "cell_type": "markdown",
   "metadata": {
    "slideshow": {
     "slide_type": "slide"
    }
   },
   "source": [
    "<img src=\"img/s11.png\">"
   ]
  },
  {
   "cell_type": "markdown",
   "metadata": {
    "slideshow": {
     "slide_type": "slide"
    }
   },
   "source": [
    "<img src=\"img/s12.png\">"
   ]
  },
  {
   "cell_type": "markdown",
   "metadata": {
    "slideshow": {
     "slide_type": "slide"
    }
   },
   "source": [
    "<img src=\"img/s13.png\">"
   ]
  },
  {
   "cell_type": "markdown",
   "metadata": {
    "slideshow": {
     "slide_type": "slide"
    }
   },
   "source": [
    "<img src=\"img/s14.png\">"
   ]
  },
  {
   "cell_type": "markdown",
   "metadata": {
    "slideshow": {
     "slide_type": "slide"
    }
   },
   "source": [
    "<img src=\"img/s15.png\">"
   ]
  },
  {
   "cell_type": "markdown",
   "metadata": {
    "slideshow": {
     "slide_type": "slide"
    }
   },
   "source": [
    "# <font color='#B9770E' size = 6><b>I. Getting data from DynaMine </b></font>\n",
    "\n",
    "\n",
    "#### Creating a JSON interface which accept a json_api_key. It has six methods:\n",
    "\n"
   ]
  },
  {
   "cell_type": "markdown",
   "metadata": {
    "slideshow": {
     "slide_type": "slide"
    }
   },
   "source": [
    "\n",
    "###### a. submit_sequence:  \n"
   ]
  },
  {
   "cell_type": "code",
   "execution_count": null,
   "metadata": {
    "slideshow": {
     "slide_type": "slide"
    }
   },
   "outputs": [],
   "source": [
    "def submit_sequences(self, proteins, predictions_only=True):\n",
    "        job = {'protocol': '1.0',\n",
    "               'json_api_key': self._json_api_key,\n",
    "               'sequences': proteins,\n",
    "               'predictions_only': predictions_only,\n",
    "               }\n",
    "        return self._submit_job(job)"
   ]
  },
  {
   "cell_type": "markdown",
   "metadata": {
    "slideshow": {
     "slide_type": "slide"
    }
   },
   "source": [
    "###### b. submit_uniprot_ids:\n"
   ]
  },
  {
   "cell_type": "code",
   "execution_count": null,
   "metadata": {
    "slideshow": {
     "slide_type": "slide"
    }
   },
   "outputs": [],
   "source": [
    "def submit_uniprot_ids(self, uniprot_ids, predictions_only=True):\n",
    "        job = {'protocol': '1.0',\n",
    "               'json_api_key': self._json_api_key,\n",
    "               'uniprot_ids': uniprot_ids,\n",
    "               'predictions_only': predictions_only,\n",
    "               }\n",
    "        return self._submit_job(job)"
   ]
  },
  {
   "cell_type": "markdown",
   "metadata": {
    "slideshow": {
     "slide_type": "slide"
    }
   },
   "source": [
    "###### c. submit_job: \n"
   ]
  },
  {
   "cell_type": "code",
   "execution_count": null,
   "metadata": {
    "slideshow": {
     "slide_type": "slide"
    }
   },
   "outputs": [],
   "source": [
    "def _submit_job(self, job):\n",
    "        # response gives us a job_id\n",
    "        response = self._dynamine_request(job)\n",
    "        if response['status'] == 'error':\n",
    "            sys.stderr.write(response['message'] + '\\n')\n",
    "            sys.exit(1)\n",
    "        job_id = response['job_id']\n",
    "        self._print_progress(response['status'], False)\n",
    "        # this makes the call blocking until the results are ready\n",
    "        while response['status'] != 'completed':\n",
    "            time.sleep(1.5)\n",
    "            response = self._poll_results(job_id)\n",
    "            if response['status'] == 'error':\n",
    "                sys.stderr.write(response['message'] + '\\n')\n",
    "                sys.exit(1)\n",
    "            self._print_progress(response['status'], True)\n",
    "        return response['results']"
   ]
  },
  {
   "cell_type": "markdown",
   "metadata": {
    "slideshow": {
     "slide_type": "slide"
    }
   },
   "source": [
    "###### d. dynamine_request:\n"
   ]
  },
  {
   "cell_type": "code",
   "execution_count": null,
   "metadata": {
    "slideshow": {
     "slide_type": "slide"
    }
   },
   "outputs": [],
   "source": [
    " def _dynamine_request(self, request):\n",
    "        # this is the post request with the json encoding of the job\n",
    "        data = urllib.parse.urlencode({'batch': json.dumps(request)}).encode(\"utf-8\")\n",
    "        url = 'http://dynamine.ibsquare.be/batch_request'\n",
    "        response = ''\n",
    "\n",
    "        req = urllib.request.Request(url, data)\n",
    "        http_response = urllib.request.urlopen(req)\n",
    "        response = json.loads(http_response.read())\n",
    "\n",
    "        #response = {'status': 'error', 'message': 'Unable to communicate with the server.Please verify that %s is up and running, otherwise concact the server administrator (ERROR: %s).'}\n",
    "\n",
    "        return response"
   ]
  },
  {
   "cell_type": "markdown",
   "metadata": {
    "slideshow": {
     "slide_type": "slide"
    }
   },
   "source": [
    "###### e. poll_results: \n"
   ]
  },
  {
   "cell_type": "code",
   "execution_count": null,
   "metadata": {
    "slideshow": {
     "slide_type": "slide"
    }
   },
   "outputs": [],
   "source": [
    " def _poll_results(self, job_id):\n",
    "        request = {'protocol': '1.0',\n",
    "                   'json_api_key': self._json_api_key,\n",
    "                   'job_id': job_id\n",
    "                   }\n",
    "        return self._dynamine_request(request)"
   ]
  },
  {
   "cell_type": "markdown",
   "metadata": {
    "slideshow": {
     "slide_type": "slide"
    }
   },
   "source": [
    "###### f. print_progress:"
   ]
  },
  {
   "cell_type": "code",
   "execution_count": null,
   "metadata": {
    "slideshow": {
     "slide_type": "slide"
    }
   },
   "outputs": [],
   "source": [
    " def _print_progress(self, status, flag):\n",
    "        if status == 'queued':\n",
    "            if flag:\n",
    "                sys.stdout.write('Waiting to be processed.\\n')\n",
    "            else:\n",
    "                sys.stdout.write('The request has been submitted.\\n')\n",
    "            self._running = False\n",
    "        elif status == 'running':\n",
    "            if not self._running:\n",
    "                self._running = True\n",
    "                sys.stdout.write('The request is being processed...')\n",
    "            else:\n",
    "                sys.stdout.write('.')\n",
    "        elif status == 'completed':\n",
    "            if not self._running:\n",
    "                sys.stdout.write('The request is being processed...')\n",
    "            sys.stdout.write('done.\\n')\n",
    "        elif status == 'error':\n",
    "            sys.stderr.write('\\n\\nError while processing the request:\\n\\n')\n",
    "        sys.stdout.flush()"
   ]
  },
  {
   "cell_type": "markdown",
   "metadata": {
    "slideshow": {
     "slide_type": "slide"
    }
   },
   "source": [
    "#### <font color='2471A3' size = 5>The whole function (DynaMine):</font>"
   ]
  },
  {
   "cell_type": "code",
   "execution_count": null,
   "metadata": {
    "slideshow": {
     "slide_type": "slide"
    }
   },
   "outputs": [],
   "source": [
    "\"\"\"\n",
    "Created by Elisa Cilia on 2014-08-20.\n",
    "Copyright (c) 2014 Elisa Cilia. All rights reserved.\n",
    "\"\"\"\n",
    "import json\n",
    "import urllib.request, urllib.parse, urllib.error\n",
    "import time\n",
    "import sys\n",
    "\n",
    "# creating a JSON interface\n",
    "\n",
    "class DynaMineJSONInterface:\n",
    "\n",
    "    def __init__(self, json_api_key):\n",
    "        self._running = False\n",
    "        self._json_api_key = '3469626345366a923473c455fd6bb283621e70a3ba5428f301501f8a'\n",
    "\n",
    "    def submit_sequences(self, proteins, predictions_only=True):\n",
    "        job = {'protocol': '1.0',\n",
    "               'json_api_key': self._json_api_key,\n",
    "               'sequences': proteins,\n",
    "               'predictions_only': predictions_only,\n",
    "               }\n",
    "        return self._submit_job(job)\n",
    "\n",
    "    def submit_uniprot_ids(self, uniprot_ids, predictions_only=True):\n",
    "        job = {'protocol': '1.0',\n",
    "               'json_api_key': self._json_api_key,\n",
    "               'uniprot_ids': uniprot_ids,\n",
    "               'predictions_only': predictions_only,\n",
    "               }\n",
    "        return self._submit_job(job)\n",
    "\n",
    "    def _submit_job(self, job):\n",
    "        # response gives us a job_id\n",
    "        response = self._dynamine_request(job)\n",
    "        if response['status'] == 'error':\n",
    "            sys.stderr.write(response['message'] + '\\n')\n",
    "            sys.exit(1)\n",
    "        job_id = response['job_id']\n",
    "        self._print_progress(response['status'], False)\n",
    "        # this makes the call blocking until the results are ready\n",
    "        while response['status'] != 'completed':\n",
    "            time.sleep(1.5)\n",
    "            response = self._poll_results(job_id)\n",
    "            if response['status'] == 'error':\n",
    "                sys.stderr.write(response['message'] + '\\n')\n",
    "                sys.exit(1)\n",
    "            self._print_progress(response['status'], True)\n",
    "        return response['results']\n",
    "\n",
    "    def _dynamine_request(self, request):\n",
    "        # this is the post request with the json encoding of the job\n",
    "        data = urllib.parse.urlencode({'batch': json.dumps(request)}).encode(\"utf-8\")\n",
    "        url = 'http://dynamine.ibsquare.be/batch_request'\n",
    "        response = ''\n",
    "\n",
    "        req = urllib.request.Request(url, data)\n",
    "        http_response = urllib.request.urlopen(req)\n",
    "        response = json.loads(http_response.read())\n",
    "\n",
    "        #response = {'status': 'error', 'message': 'Unable to communicate with the server.Please verify that %s is up and running, otherwise concact the server administrator (ERROR: %s).'}\n",
    "\n",
    "        return response\n",
    "\n",
    "    def _poll_results(self, job_id):\n",
    "        request = {'protocol': '1.0',\n",
    "                   'json_api_key': self._json_api_key,\n",
    "                   'job_id': job_id\n",
    "                   }\n",
    "        return self._dynamine_request(request)\n",
    "\n",
    "    def _print_progress(self, status, flag):\n",
    "        if status == 'queued':\n",
    "            if flag:\n",
    "                sys.stdout.write('Waiting to be processed.\\n')\n",
    "            else:\n",
    "                sys.stdout.write('The request has been submitted.\\n')\n",
    "            self._running = False\n",
    "        elif status == 'running':\n",
    "            if not self._running:\n",
    "                self._running = True\n",
    "                sys.stdout.write('The request is being processed...')\n",
    "            else:\n",
    "                sys.stdout.write('.')\n",
    "        elif status == 'completed':\n",
    "            if not self._running:\n",
    "                sys.stdout.write('The request is being processed...')\n",
    "            sys.stdout.write('done.\\n')\n",
    "        elif status == 'error':\n",
    "            sys.stderr.write('\\n\\nError while processing the request:\\n\\n')\n",
    "        sys.stdout.flush()\n",
    "\n",
    "\n",
    "if __name__ == '__main__':\n",
    "    json_api_key = 'd03e71ca849d3bc5277fd68e7a0f45124df5be84bf348db65218982f'\n",
    "    dynamine = DynaMineJSONInterface(json_api_key)\n",
    "\n",
    "    # Read input Json file\n",
    "    file = open('P53_5O1A.json', 'r')\n",
    "    inputFile = file.read()\n",
    "    proteins = json.loads(inputFile)\n",
    "    \n",
    "results = dynamine.submit_sequences(proteins, predictions_only=False)\n",
    "print()\n",
    "results\n"
   ]
  },
  {
   "cell_type": "markdown",
   "metadata": {
    "slideshow": {
     "slide_type": "slide"
    }
   },
   "source": [
    "<img src=\"img/s16.png\">"
   ]
  },
  {
   "cell_type": "markdown",
   "metadata": {
    "slideshow": {
     "slide_type": "slide"
    }
   },
   "source": [
    "<img src=\"img/s17.png\">"
   ]
  },
  {
   "cell_type": "markdown",
   "metadata": {
    "slideshow": {
     "slide_type": "slide"
    }
   },
   "source": [
    "<img src=\"img/s18.png\">"
   ]
  },
  {
   "cell_type": "markdown",
   "metadata": {
    "slideshow": {
     "slide_type": "slide"
    }
   },
   "source": [
    "## <font color='2471A3' size = 5><b> Plotting DisoMine, DynaMine and EFoldMine Results </b></font>"
   ]
  },
  {
   "cell_type": "markdown",
   "metadata": {
    "slideshow": {
     "slide_type": "slide"
    }
   },
   "source": [
    "<img src=\"img/s_case_study.png\">"
   ]
  },
  {
   "cell_type": "markdown",
   "metadata": {
    "slideshow": {
     "slide_type": "slide"
    }
   },
   "source": [
    "### 1. Reads the JSON formatted result\n"
   ]
  },
  {
   "cell_type": "code",
   "execution_count": null,
   "metadata": {
    "slideshow": {
     "slide_type": "slide"
    }
   },
   "outputs": [],
   "source": [
    "file = open('Disomine_backbone_sidechain_efoldmine.json', 'r')\n",
    "input = file.read()\n",
    "request_json = json.loads(input)"
   ]
  },
  {
   "cell_type": "markdown",
   "metadata": {
    "slideshow": {
     "slide_type": "slide"
    }
   },
   "source": [
    "### 2. Defines an index for each residue\n"
   ]
  },
  {
   "cell_type": "code",
   "execution_count": null,
   "metadata": {
    "slideshow": {
     "slide_type": "slide"
    }
   },
   "outputs": [],
   "source": [
    "seq = request_json[\"results\"][0]['sequence']"
   ]
  },
  {
   "cell_type": "markdown",
   "metadata": {
    "slideshow": {
     "slide_type": "slide"
    }
   },
   "source": [
    "### 3. Defines the corresponding scores for each residue\n"
   ]
  },
  {
   "cell_type": "code",
   "execution_count": null,
   "metadata": {
    "slideshow": {
     "slide_type": "slide"
    }
   },
   "outputs": [],
   "source": [
    "#DisoMine Score\n",
    "disomine = request_json[\"results\"][0]['disomine']"
   ]
  },
  {
   "cell_type": "markdown",
   "metadata": {
    "slideshow": {
     "slide_type": "slide"
    }
   },
   "source": [
    "### 4. Creats the plot using \"figure\", \"add_subplot\" and \"show\" "
   ]
  },
  {
   "cell_type": "code",
   "execution_count": null,
   "metadata": {
    "slideshow": {
     "slide_type": "slide"
    }
   },
   "outputs": [],
   "source": [
    "# creating a plot\n",
    "fig = plt.figure(figsize=(18, 16), dpi= 80, facecolor='w', edgecolor='k')\n",
    "\n",
    "#ploting the DisoMine results\n",
    "axes = fig.add_subplot(221)\n",
    "axes.plot(range(len(seq)), disomine)\n",
    "axes.set_title(\"DisoMine\")\n",
    "\n",
    "plt.show()"
   ]
  },
  {
   "cell_type": "markdown",
   "metadata": {
    "slideshow": {
     "slide_type": "slide"
    }
   },
   "source": [
    "#### <font color='2471A3' size = 5>The whole function (Plitting):</font>"
   ]
  },
  {
   "cell_type": "code",
   "execution_count": null,
   "metadata": {
    "slideshow": {
     "slide_type": "slide"
    }
   },
   "outputs": [],
   "source": [
    "import matplotlib.pyplot as plt\n",
    "import numpy as np\n",
    "import json\n",
    "\n",
    "# Read input Json file\n",
    "file = open('Disomine_backbone_sidechain_efoldmine.json', 'r')\n",
    "input = file.read()\n",
    "request_json = json.loads(input)\n",
    "\n",
    "# residue index\n",
    "seq = request_json[\"results\"][0]['sequence']\n",
    "#DisoMine Score\n",
    "disomine = request_json[\"results\"][0]['disomine']\n",
    "#backbone Score\n",
    "backbone = request_json[\"results\"][0]['backbone']\n",
    "#sidechain Score\n",
    "sidechain = request_json[\"results\"][0]['sidechain']\n",
    "#efoldmine Score\n",
    "efoldmine = request_json[\"results\"][0]['efoldmine']\n",
    "# creating a plot\n",
    "fig = plt.figure(figsize=(18, 16), dpi= 80, facecolor='w', edgecolor='k')\n",
    "\n",
    "#ploting the DisoMine results\n",
    "axes = fig.add_subplot(221)\n",
    "axes.plot(range(len(seq)), disomine)\n",
    "axes.set_title(\"DisoMine\")\n",
    "\n",
    "#ploting the Backbone results \n",
    "axes = fig.add_subplot(222)\n",
    "axes.plot(range(len(seq)), backbone)\n",
    "axes.set_title(\"Backbone\")\n",
    "\n",
    "#ploting the SideChain results\n",
    "axes = fig.add_subplot(223)\n",
    "axes.plot(range(len(seq)), sidechain)\n",
    "axes.set_title(\"SideChain\")\n",
    "\n",
    "#ploting the EFoldMine results\n",
    "axes = fig.add_subplot(224)\n",
    "axes.plot(range(len(seq)), efoldmine)\n",
    "axes.set_title(\"EFoldMine\")\n",
    "\n",
    "plt.show()\n",
    "\n"
   ]
  },
  {
   "cell_type": "markdown",
   "metadata": {
    "slideshow": {
     "slide_type": "slide"
    }
   },
   "source": [
    "<img src=\"img/s19.png\">"
   ]
  },
  {
   "cell_type": "markdown",
   "metadata": {
    "slideshow": {
     "slide_type": "slide"
    }
   },
   "source": [
    "<img src=\"img/s20.png\">"
   ]
  },
  {
   "cell_type": "markdown",
   "metadata": {
    "slideshow": {
     "slide_type": "slide"
    }
   },
   "source": [
    "<img src=\"img/s21.png\">"
   ]
  },
  {
   "cell_type": "markdown",
   "metadata": {
    "slideshow": {
     "slide_type": "slide"
    }
   },
   "source": [
    "\n",
    "# <font color='#B9770E' size = 6><b>Getting data from DEOGEN2</b></font>\n",
    "\n"
   ]
  },
  {
   "cell_type": "markdown",
   "metadata": {
    "slideshow": {
     "slide_type": "slide"
    }
   },
   "source": [
    "###### <font color='2471A3' size = 4.5>1. </font>Defining the api-endpoint \n"
   ]
  },
  {
   "cell_type": "code",
   "execution_count": null,
   "metadata": {
    "slideshow": {
     "slide_type": "slide"
    }
   },
   "outputs": [],
   "source": [
    "    api_endpoint = \"https://deogen2.mutaframe.com/fetch_results.php\"\n"
   ]
  },
  {
   "cell_type": "markdown",
   "metadata": {
    "slideshow": {
     "slide_type": "slide"
    }
   },
   "source": [
    "###### <font color='2471A3' size = 4.5>2. </font>Data to be sent to api \n"
   ]
  },
  {
   "cell_type": "code",
   "execution_count": null,
   "metadata": {
    "slideshow": {
     "slide_type": "slide"
    }
   },
   "outputs": [],
   "source": [
    " # API key\n",
    "    key = 1524214674089\n",
    "    sequence_id = sequence_id\n",
    "    mutation = mutation\n",
    "    structure_id = 0\n",
    "    # data to be sent to api\n",
    "    data = {\n",
    "        \" \": key,\n",
    "        \"sequence_id\": sequence_id,\n",
    "        \"mutation\": mutation,\n",
    "        \"structure_id\": structure_id,\n",
    "    }"
   ]
  },
  {
   "cell_type": "markdown",
   "metadata": {
    "slideshow": {
     "slide_type": "slide"
    }
   },
   "source": [
    "###### <font color='2471A3' size = 4.5>3. </font>Make POST request with Input body "
   ]
  },
  {
   "cell_type": "code",
   "execution_count": null,
   "metadata": {
    "slideshow": {
     "slide_type": "slide"
    }
   },
   "outputs": [],
   "source": [
    "    response = requests.get(api_endpoint, data)\n",
    "    queryResults = json.loads(response.text)\n",
    "    return queryResults"
   ]
  },
  {
   "cell_type": "markdown",
   "metadata": {
    "slideshow": {
     "slide_type": "slide"
    }
   },
   "source": [
    "#### <font color='2471A3' size = 5>The whole function (DEOGEN2):</font>"
   ]
  },
  {
   "cell_type": "code",
   "execution_count": null,
   "metadata": {
    "slideshow": {
     "slide_type": "slide"
    }
   },
   "outputs": [],
   "source": [
    "import json\n",
    "\n",
    "def getDataFromDEOGEN2(sequence_id, mutation):\n",
    "\n",
    "    # defining the api-endpoint\n",
    "    api_endpoint = \"https://deogen2.mutaframe.com/fetch_results.php\"\n",
    "\n",
    "    # API key\n",
    "    key = 1524214674089\n",
    "    sequence_id = sequence_id\n",
    "    mutation = mutation\n",
    "    structure_id = 0\n",
    "\n",
    "    # data to be sent to api\n",
    "    data = {\n",
    "        \" \": key,\n",
    "        \"sequence_id\": sequence_id,\n",
    "        \"mutation\": mutation,\n",
    "        \"structure_id\": structure_id,\n",
    "    }\n",
    "\n",
    "    # Make POST request with Input body\n",
    "    response = requests.get(api_endpoint, data)\n",
    "    queryResults = json.loads(response.text)\n",
    "    return queryResults\n",
    "\n",
    "if __name__ == '__main__':\n",
    "  results = getDataFromDEOGEN2(64689, 'N45S')\n",
    "  print(results)\n",
    "\n"
   ]
  },
  {
   "cell_type": "markdown",
   "metadata": {
    "slideshow": {
     "slide_type": "slide"
    }
   },
   "source": [
    "### Plotting graph from DEOGEN2 Result "
   ]
  },
  {
   "cell_type": "markdown",
   "metadata": {
    "slideshow": {
     "slide_type": "slide"
    }
   },
   "source": [
    "###### <font color='2471A3' size = 4.5>3. </font>Read input Json file "
   ]
  },
  {
   "cell_type": "code",
   "execution_count": null,
   "metadata": {
    "slideshow": {
     "slide_type": "slide"
    }
   },
   "outputs": [],
   "source": [
    "file = open('DEOGEN2.json', 'r')\n",
    "    input = file.read()\n",
    "    request_json = json.loads(input)"
   ]
  },
  {
   "cell_type": "markdown",
   "metadata": {
    "slideshow": {
     "slide_type": "slide"
    }
   },
   "source": [
    "###### <font color='2471A3' size = 4.5>3. </font>Mutation DEOGEN2 scores "
   ]
  },
  {
   "cell_type": "code",
   "execution_count": null,
   "metadata": {
    "slideshow": {
     "slide_type": "slide"
    }
   },
   "outputs": [],
   "source": [
    "aa = 'CDSQKIPTFNGHLRWAVEYM'\n",
    "    prediction = []\n",
    "    mutations =[]\n",
    "    for x in aa:\n",
    "        if x != res[0]:\n",
    "            df = request_json['all_deogen2'][res + x]\n",
    "            prediction.append(df)\n",
    "            mutations.append(res + x)\n",
    "\n",
    "    deogen2 = [float(i) for i in prediction]"
   ]
  },
  {
   "cell_type": "markdown",
   "metadata": {
    "slideshow": {
     "slide_type": "slide"
    }
   },
   "source": [
    "###### <font color='2471A3' size = 4.5>3. </font>Creating a plot "
   ]
  },
  {
   "cell_type": "code",
   "execution_count": null,
   "metadata": {
    "slideshow": {
     "slide_type": "slide"
    }
   },
   "outputs": [],
   "source": [
    "fig = plt.figure(figsize=(18, 16), dpi= 80, facecolor='w', edgecolor='k')"
   ]
  },
  {
   "cell_type": "markdown",
   "metadata": {
    "slideshow": {
     "slide_type": "slide"
    }
   },
   "source": [
    "###### <font color='2471A3' size = 4.5>3. </font>ploting the DEOGEN2 results "
   ]
  },
  {
   "cell_type": "code",
   "execution_count": null,
   "metadata": {
    "slideshow": {
     "slide_type": "slide"
    }
   },
   "outputs": [],
   "source": [
    "axes = fig.add_subplot(312)\n",
    "    axes.bar(mutations, deogen2)\n",
    "    plt.xticks(mutations, size = 12)\n",
    "    axes.set_title(\"Results Of DEOGEN2 For Amino Acid Replacement Of \" + res , size = 15)\n",
    "    plt.show()"
   ]
  },
  {
   "cell_type": "markdown",
   "metadata": {
    "slideshow": {
     "slide_type": "slide"
    }
   },
   "source": [
    "#### <font color='2471A3' size = 5>The whole function (plotting DEOGEN2):</font>"
   ]
  },
  {
   "cell_type": "code",
   "execution_count": null,
   "metadata": {
    "slideshow": {
     "slide_type": "slide"
    }
   },
   "outputs": [],
   "source": [
    "import matplotlib.pyplot as plt\n",
    "import json\n",
    "\n",
    "def deogen2plot(res):\n",
    "\n",
    "    # Read input Json file\n",
    "    file = open('DEOGEN2.json', 'r')\n",
    "    input = file.read()\n",
    "    request_json = json.loads(input)\n",
    "\n",
    "    # mutation DEOGEN2 scores\n",
    "\n",
    "    aa = 'CDSQKIPTFNGHLRWAVEYM'\n",
    "    prediction = []\n",
    "    mutations =[]\n",
    "    for x in aa:\n",
    "        if x != res[0]:\n",
    "            df = request_json['all_deogen2'][res + x]\n",
    "            prediction.append(df)\n",
    "            mutations.append(res + x)\n",
    "\n",
    "    deogen2 = [float(i) for i in prediction]\n",
    "\n",
    "    # creating a plot\n",
    "\n",
    "    fig = plt.figure(figsize=(18, 16), dpi= 80, facecolor='w', edgecolor='k')\n",
    "\n",
    "    #ploting the DEOGEN2 results\n",
    "    \n",
    "    axes = fig.add_subplot(312)\n",
    "    axes.bar(mutations, deogen2)\n",
    "    plt.xticks(mutations, size = 12)\n",
    "    axes.set_title(\"Results Of DEOGEN2 For Amino Acid Replacement Of \" + res , size = 15)\n",
    "\n",
    "    plt.show()\n",
    "\n",
    "if __name__ == '__main__':\n",
    "  results = deogen2plot('R372')\n",
    "  print(results)\n"
   ]
  }
 ],
 "metadata": {
  "celltoolbar": "Slideshow",
  "kernelspec": {
   "display_name": "Python 3",
   "language": "python",
   "name": "python3"
  },
  "language_info": {
   "codemirror_mode": {
    "name": "ipython",
    "version": 3
   },
   "file_extension": ".py",
   "mimetype": "text/x-python",
   "name": "python",
   "nbconvert_exporter": "python",
   "pygments_lexer": "ipython3",
   "version": "3.7.1"
  }
 },
 "nbformat": 4,
 "nbformat_minor": 2
}
